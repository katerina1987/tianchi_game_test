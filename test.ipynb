{
 "cells": [
  {
   "cell_type": "markdown",
   "metadata": {},
   "source": [
    "# 股市数据可视化"
   ]
  },
  {
   "cell_type": "code",
   "execution_count": null,
   "metadata": {},
   "outputs": [],
   "source": [
    "import imp\n",
    "import pandas as pd\n",
    "import matplotlib as mpl\n",
    "from matplotlib import pyplot as plt\n",
    "import dash\n",
    "import dash_core_components as dcc\n",
    "import dash_html_components as html\n",
    "import plotly.express as px\n",
    "import plotly.graph_objects as go\n",
    "from datetime import datetime"
   ]
  },
  {
   "cell_type": "code",
   "execution_count": null,
   "metadata": {},
   "outputs": [],
   "source": [
    "#导入数据\n",
    "df_sh_index = pd.read_csv(\"/Users/mac/Desktop/tianchi_game/data/sh_index.csv\")\n",
    "df_sz_index = pd.read_csv(\"/Users/mac/Desktop/tianchi_game/data/sz_index.csv\")\n",
    "df_sh_margin_trade = pd.read_csv(\"/Users/mac/Desktop/tianchi_game/data/sh_margin_trade.csv\")\n",
    "df_sz_margin_trade = pd.read_csv(\"/Users/mac/Desktop/tianchi_game/data/sz_margin_trade.csv\")"
   ]
  },
  {
   "cell_type": "code",
   "execution_count": null,
   "metadata": {},
   "outputs": [],
   "source": [
    "df_sh_margin_trade.head()"
   ]
  },
  {
   "cell_type": "code",
   "execution_count": null,
   "metadata": {},
   "outputs": [],
   "source": [
    "date = [str(x) for x in df_sh_margin_trade[\"date\"].to_list()]\n",
    "margin_balance = df_sh_margin_trade[\"margin_balance\"].to_list()\n",
    "date_new = pd.to_datetime(date, format=\"%Y-%m-%d\")\n",
    "df = pd.DataFrame({\"date\":date_new, \"margin_balance\":margin_balance})"
   ]
  },
  {
   "cell_type": "code",
   "execution_count": null,
   "metadata": {},
   "outputs": [],
   "source": [
    "fig = px.bar(df, x =\"date\", y = \"margin_balance\", title = \"融资融券趋势图\", labels={\"date\":\"日期\", \"margin_balance\":\"融资融券余额\"})\n",
    "fig.show()"
   ]
  },
  {
   "cell_type": "code",
   "execution_count": null,
   "metadata": {},
   "outputs": [],
   "source": [
    "app = dash.Dash()"
   ]
  },
  {
   "cell_type": "code",
   "execution_count": null,
   "metadata": {},
   "outputs": [],
   "source": [
    "app.run_server(debug=True)"
   ]
  },
  {
   "cell_type": "code",
   "execution_count": null,
   "metadata": {},
   "outputs": [],
   "source": [
    "date = [str(x) for x in df_sh_index[\"date\"].to_list()]\n",
    "vol = df_sh_index[\"vol\"]\n",
    "df = pd.DataFrame({\"date\":date_new, \"vol\":vol})"
   ]
  },
  {
   "cell_type": "markdown",
   "metadata": {},
   "source": [
    "# 用户情感分析可视化"
   ]
  },
  {
   "cell_type": "code",
   "execution_count": null,
   "metadata": {},
   "outputs": [],
   "source": [
    "import numpy as np\n",
    "import pandas as pd\n",
    "import jieba\n",
    "import jieba.analyse\n",
    "import wordcloud\n",
    "import matplotlib.pyplot as plt\n",
    "from pyecharts.charts import WordCloud, Bar, Line\n",
    "import pyecharts.options as opts\n",
    "from collections import Counter"
   ]
  },
  {
   "cell_type": "code",
   "execution_count": null,
   "metadata": {},
   "outputs": [],
   "source": [
    "df = pd.read_csv(\"/Users/mac/Documents/同步空间/tianchi_game/data/earphone_sentiment.csv\")\n",
    "df.head()"
   ]
  },
  {
   "cell_type": "code",
   "execution_count": null,
   "metadata": {},
   "outputs": [],
   "source": [
    "stop_words = [line.strip() for line in open(\"/Users/mac/Documents/同步空间/python_data/tech_data/jieba_dict/stop_words.txt\").readlines()]"
   ]
  },
  {
   "cell_type": "code",
   "execution_count": null,
   "metadata": {},
   "outputs": [],
   "source": [
    "word_list = []\n",
    "for i in range(len(df)):\n",
    "    try:\n",
    "        content = df[\"content\"][i]\n",
    "        outword = \"\"\n",
    "        words = jieba.lcut(content, cut_all=False)\n",
    "        for word in words:\n",
    "            if word not in stop_words:\n",
    "                outword += word + \" \"\n",
    "            words_str = \"\".join(outword)\n",
    "        word_list.append(words_str)\n",
    "        i+=1\n",
    "    except:\n",
    "        pass"
   ]
  },
  {
   "cell_type": "code",
   "execution_count": null,
   "metadata": {},
   "outputs": [],
   "source": [
    "df.insert(5,\"word\",word_list)\n",
    "df.head()"
   ]
  },
  {
   "cell_type": "markdown",
   "metadata": {},
   "source": [
    "## 对正向情感做词云图"
   ]
  },
  {
   "cell_type": "code",
   "execution_count": null,
   "metadata": {},
   "outputs": [],
   "source": [
    "data = df.query(\"sentiment_value == 1\")[\"word\"]\n",
    "data"
   ]
  },
  {
   "cell_type": "code",
   "execution_count": null,
   "metadata": {},
   "outputs": [],
   "source": [
    "words_data = \"\"\n",
    "for i in range(len(data)):\n",
    "    try:\n",
    "        words_list = data[i].split(\" \")\n",
    "        for x in words_list:\n",
    "            words_data = \" \".join([words_data, x])\n",
    "        i+=1\n",
    "    except:\n",
    "        pass\n",
    "text_count = Counter(words_data)"
   ]
  },
  {
   "cell_type": "code",
   "execution_count": null,
   "metadata": {},
   "outputs": [],
   "source": [
    "test = jieba.analyse.extract_tags(words_data, topK=100, withWeight=True, allowPOS=('ns', 'n', 'vn', 'v'))"
   ]
  },
  {
   "cell_type": "code",
   "execution_count": null,
   "metadata": {},
   "outputs": [],
   "source": [
    "(WordCloud()\n",
    ".add(series_name=\"wordcloud\",data_pair=test,word_size_range=[20,100])\n",
    ".render(\"wordcloud.html\")\n",
    ")\n"
   ]
  },
  {
   "cell_type": "code",
   "execution_count": null,
   "metadata": {},
   "outputs": [],
   "source": [
    "plt.rcParams['font.family'] = ['Arial Unicode MS']\n",
    "plt.rcParams['image.interpolation'] = 'nearest'\n",
    "plt.rcParams['image.cmap'] = 'gray'\n",
    "plt.rcParams['axes.unicode_minus'] = False"
   ]
  },
  {
   "cell_type": "code",
   "execution_count": null,
   "metadata": {},
   "outputs": [],
   "source": [
    "test = jieba.analyse.extract_tags(words_data, topK=100, withWeight=True, allowPOS=('ns', 'n', 'vn', 'v'))\n",
    "word_dict ={}\n",
    "for i in range(100):\n",
    "    word_dict[test[i][0]] = test[i][1]\n",
    "word_dict"
   ]
  },
  {
   "cell_type": "code",
   "execution_count": null,
   "metadata": {},
   "outputs": [],
   "source": [
    "wc = wordcloud.WordCloud(background_color=\"gray\", max_words =100, max_font_size=50, random_state=42,width=800,height=600)\n",
    "wc.generate_from_frequencies(word_dict)\n",
    "plt.imshow(wc)\n",
    "plt.axis(\"off\")\n",
    "plt.show()"
   ]
  },
  {
   "cell_type": "markdown",
   "metadata": {},
   "source": [
    "## 根据情感绘制柱状图"
   ]
  },
  {
   "cell_type": "code",
   "execution_count": null,
   "metadata": {},
   "outputs": [],
   "source": [
    "good_sen = df.query(\"sentiment_value == 1\")[\"word\"]\n",
    "bad_sen = df.query(\"sentiment_value == 0\")[\"word\"]\n"
   ]
  },
  {
   "cell_type": "code",
   "execution_count": null,
   "metadata": {},
   "outputs": [],
   "source": [
    "good_sen.value_counts()"
   ]
  },
  {
   "cell_type": "code",
   "execution_count": null,
   "metadata": {},
   "outputs": [],
   "source": [
    "bad_sen.size"
   ]
  },
  {
   "cell_type": "code",
   "execution_count": null,
   "metadata": {},
   "outputs": [],
   "source": [
    "sen_data = pd.DataFrame([[\"good\",good_sen.size],[\"bad\",bad_sen.size]],columns=[\"sen\",\"count\"])\n",
    "sen_data"
   ]
  },
  {
   "cell_type": "markdown",
   "metadata": {},
   "source": [
    "### 针对所有主题的柱状图"
   ]
  },
  {
   "cell_type": "code",
   "execution_count": null,
   "metadata": {},
   "outputs": [],
   "source": [
    "# 生成好坏评价个数柱状图\n",
    "plt.bar(sen_data[\"sen\"],sen_data[\"count\"])\n",
    "plt.show()"
   ]
  },
  {
   "cell_type": "code",
   "execution_count": null,
   "metadata": {},
   "outputs": [],
   "source": [
    "# 取出评价为好的评论高频词及评论次数\n",
    "good_word_key = []\n",
    "good_word_value = []\n",
    "for key ,value in good_sen.value_counts().items():\n",
    "    good_word_key.append(key)\n",
    "    good_word_value.append(value)\n",
    "good_word = [good_word_key,good_word_value]"
   ]
  },
  {
   "cell_type": "code",
   "execution_count": null,
   "metadata": {},
   "outputs": [],
   "source": [
    "#  dataframe转置\n",
    "good_words = pd.DataFrame(good_word)\n",
    "good_words = good_words.T\n",
    "good_words.columns = [\"word\",\"count\"]\n",
    "good_words.query(\"count >= 3\")\n",
    "#  这种value_count出来的是针对单条评论拆分的词进行比较，并不是针对单个词统计词频；"
   ]
  },
  {
   "cell_type": "markdown",
   "metadata": {},
   "source": [
    "### 针对不同主题的评价柱状图"
   ]
  },
  {
   "cell_type": "code",
   "execution_count": null,
   "metadata": {},
   "outputs": [],
   "source": [
    "# 按情感分成两个数据框\n",
    "data_good = df.query(\"sentiment_value == 1\")\n",
    "data_bad = df.query(\"sentiment_value == 0\")\n",
    "data_good.head()"
   ]
  },
  {
   "cell_type": "code",
   "execution_count": null,
   "metadata": {},
   "outputs": [],
   "source": [
    "# 按主题分成框\n",
    "# df[\"subject\"].value_counts() 共7类：其他 配置 音质 价格 外形 功能 舒适"
   ]
  },
  {
   "cell_type": "code",
   "execution_count": null,
   "metadata": {},
   "outputs": [],
   "source": [
    "sub_good = df.query(\"sentiment_value == 1\")[\"subject\"]\n",
    "sub_bad = df.query(\"sentiment_value == 0\")[\"subject\"]\n",
    "sub_label = [\"其他\",\"配置\",\"音质\",\"价格\",\"外形\",\"功能\",\"舒适\"]"
   ]
  },
  {
   "cell_type": "code",
   "execution_count": null,
   "metadata": {},
   "outputs": [],
   "source": [
    "# 各主题评价好的个数\n",
    "sub_good_key = []\n",
    "sub_good_value = []\n",
    "for key ,value in sub_good.value_counts().items():\n",
    "    sub_good_key.append(key)\n",
    "    sub_good_value.append(value)\n",
    "sub_good_data = [sub_good_key,sub_good_value]\n",
    "sub_good_datas = pd.DataFrame(sub_good_data)\n",
    "sub_good_datas = sub_good_datas.T\n",
    "sub_good_datas.columns = [\"sub\",\"count\"]\n",
    "sub_good_datas"
   ]
  },
  {
   "cell_type": "code",
   "execution_count": null,
   "metadata": {},
   "outputs": [],
   "source": [
    "# 各主题评价不好的个数\n",
    "sub_bad_key = []\n",
    "sub_bad_value = []\n",
    "for key ,value in sub_bad.value_counts().items():\n",
    "    sub_bad_key.append(key)\n",
    "    sub_bad_value.append(value)\n",
    "sub_bad_data = [sub_bad_key,sub_bad_value]\n",
    "sub_bad_datas = pd.DataFrame(sub_bad_data)\n",
    "sub_bad_datas = sub_bad_datas.T\n",
    "sub_bad_datas.columns = [\"sub\",\"count\"]\n",
    "sub_bad_datas"
   ]
  },
  {
   "cell_type": "code",
   "execution_count": null,
   "metadata": {},
   "outputs": [],
   "source": [
    "# 作图数据\n",
    "from enum import auto\n",
    "from matplotlib.pyplot import legend\n",
    "\n",
    "ind = np.arange(7)\n",
    "width = 0.35\n",
    "\n",
    "fig,ax = plt.subplots()\n",
    "sub_good_1= ax.bar(ind - width/2 ,sub_good_datas[\"count\"], width,color = \"SkyBlue\",label = \"good\") \n",
    "sub_bad_1 = ax.bar(ind + width/2 ,sub_bad_datas[\"count\"], width,color = \"IndianRed\",label = \"bad\")\n",
    "\n",
    "ax.set_ylabel(\"Number of comments\")\n",
    "ax.set_title(\"主题情感分析\")\n",
    "ax.set_xticks(ind)\n",
    "ax.set_xticklabels(sub_label)\n",
    "ax.legend()\n",
    "\n",
    "def autolabel(rects,xpos='center'):\n",
    "    xpos = xpos.lower()\n",
    "    ha = {'center':'center','right':'left','left':'right'}\n",
    "    offset = {'center':0.5,'right':0.57,'left':0.43}\n",
    "    \n",
    "    for rect in rects:\n",
    "        height = rect.get_height()\n",
    "        ax.text(rect.get_x() + rect.get_width()*offset[xpos], 1.01*height,\n",
    "                '%s' % int(height),\n",
    "                ha=ha[xpos], va='bottom')\n",
    "\n",
    "autolabel(sub_good_1,\"left\")\n",
    "autolabel(sub_bad_1,\"right\")\n",
    "\n",
    "plt.show()"
   ]
  },
  {
   "cell_type": "markdown",
   "metadata": {},
   "source": [
    "## 相关性分析及headmap图"
   ]
  },
  {
   "cell_type": "code",
   "execution_count": null,
   "metadata": {},
   "outputs": [],
   "source": []
  },
  {
   "cell_type": "markdown",
   "metadata": {},
   "source": [
    "# 新闻文本分类"
   ]
  },
  {
   "cell_type": "code",
   "execution_count": null,
   "metadata": {},
   "outputs": [],
   "source": [
    "import pandas as pd\n",
    "import matplotlib.pyplot as plt\n",
    "import matplotlib"
   ]
  },
  {
   "cell_type": "code",
   "execution_count": null,
   "metadata": {},
   "outputs": [],
   "source": [
    "#  让mat plt 正常显示中文\n",
    "plt.rcParams['font.family'] = ['Arial Unicode MS']\n",
    "plt.rcParams['image.interpolation'] = 'nearest'\n",
    "plt.rcParams['image.cmap'] = 'gra中文\n",
    "plt.rcParams['axes.unicode_minus'] = False"
   ]
  },
  {
   "cell_type": "code",
   "execution_count": null,
   "metadata": {},
   "outputs": [],
   "source": [
    "df = pd.read_csv(\"data/train_set.csv\", sep = \"\\t\")\n",
    "df.head()"
   ]
  },
  {
   "cell_type": "code",
   "execution_count": null,
   "metadata": {},
   "outputs": [],
   "source": [
    "df['text_len'] = df['text'].apply(lambda x: len(x.split(' ')))\n",
    "df['text_len'].describe()"
   ]
  },
  {
   "cell_type": "code",
   "execution_count": null,
   "metadata": {},
   "outputs": [],
   "source": [
    "df['label'].value_counts().plot(kind='bar')\n",
    "x= df['label'].value_counts().index\n",
    "x_label =['科技','股票','体育','娱乐','时政','社会','教育','财经','家居','游戏','房产','时尚','彩票','星座'] \n",
    "plt.xticks(x,x_label)\n",
    "plt.show()\n"
   ]
  },
  {
   "cell_type": "markdown",
   "metadata": {},
   "source": [
    "以上是基于数据做的基础的可视化分析\n"
   ]
  },
  {
   "cell_type": "markdown",
   "metadata": {},
   "source": [
    "## 基于深度学习-bert进行分类"
   ]
  },
  {
   "cell_type": "code",
   "execution_count": 1,
   "metadata": {},
   "outputs": [
    {
     "name": "stderr",
     "output_type": "stream",
     "text": [
      "<frozen importlib._bootstrap>:228: RuntimeWarning: builtins.type size changed, may indicate binary incompatibility. Expected 872 from C header, got 880 from PyObject\n",
      "<frozen importlib._bootstrap>:228: RuntimeWarning: builtins.type size changed, may indicate binary incompatibility. Expected 872 from C header, got 880 from PyObject\n"
     ]
    }
   ],
   "source": [
    "import joblib\n",
    "from config import *\n",
    "import pandas as pd\n",
    "from sklearn.model_selection import train_test_split\n",
    "from sklearn.model_selection import StratifiedKFold\n",
    "import os\n",
    "import re"
   ]
  },
  {
   "cell_type": "markdown",
   "metadata": {},
   "source": [
    "### 加载数据及数据预处理"
   ]
  },
  {
   "cell_type": "code",
   "execution_count": 4,
   "metadata": {},
   "outputs": [],
   "source": [
    "def data_preprocess():\n",
    "    rawdata = pd.read_csv(\"./data/NLP_news_train_set.csv\", sep='\\t', encoding='UTF-8')\n",
    "    #用正则表达式按标点替换文本\n",
    "\n",
    "    rawdata['words']=rawdata['text'].apply(lambda x: re.sub('3750|900|648',\"\",x))\n",
    "    del rawdata['text']\n",
    "\n",
    "    #预测\n",
    "    final_test_data = pd.read_csv('./data/NLP_news_test_a.csv', sep='\\t', encoding='UTF-8')\n",
    "    \n",
    "    final_test_data['words'] = final_test_data['text'].apply(lambda x: re.sub('3750|900|648',\"\",x))\n",
    "    del final_test_data['text']\n",
    "    all_value= rawdata['words'].append(final_test_data['words'])\n",
    "    all_value.columns=['text']\n",
    "    all_value.to_csv('../alldata.csv',index=False)"
   ]
  },
  {
   "cell_type": "code",
   "execution_count": 5,
   "metadata": {},
   "outputs": [],
   "source": [
    "data_preprocess()"
   ]
  },
  {
   "cell_type": "code",
   "execution_count": 7,
   "metadata": {},
   "outputs": [],
   "source": [
    "from tokenizers import Tokenizer\n",
    "from tokenizers.models import BPE,WordLevel"
   ]
  },
  {
   "cell_type": "code",
   "execution_count": 8,
   "metadata": {},
   "outputs": [],
   "source": [
    "tokenizer = Tokenizer(WordLevel(unk_token='[UNK]'))"
   ]
  },
  {
   "cell_type": "code",
   "execution_count": 9,
   "metadata": {},
   "outputs": [],
   "source": [
    "from tokenizers.trainers import BpeTrainer,WordLevelTrainer"
   ]
  },
  {
   "cell_type": "code",
   "execution_count": 10,
   "metadata": {},
   "outputs": [],
   "source": [
    "trainer = WordLevelTrainer(special_tokens = ['[UNK]','[CLS]','[SEP]','[PAD]','[MASK]'])\n"
   ]
  },
  {
   "cell_type": "code",
   "execution_count": 11,
   "metadata": {},
   "outputs": [],
   "source": [
    "from tokenizers.pre_tokenizers import Whitespace\n",
    "tokenizer.pre_tokenizer = Whitespace()"
   ]
  },
  {
   "cell_type": "code",
   "execution_count": 12,
   "metadata": {},
   "outputs": [],
   "source": [
    "tokenizer.train(['./alldata.csv'], trainer)\n",
    "tokenizer.mask_token = '[MASK]'\n",
    "tokenizer.save('./tokenizer_whitespace.json')"
   ]
  },
  {
   "cell_type": "markdown",
   "metadata": {},
   "source": [
    "### 设定预训练模型参数，初始化预训练模型"
   ]
  },
  {
   "cell_type": "markdown",
   "metadata": {},
   "source": [
    "选择XLNet模型作为预训练模型"
   ]
  },
  {
   "cell_type": "code",
   "execution_count": 20,
   "metadata": {},
   "outputs": [],
   "source": [
    "from transformers import RobertaConfig, AlbertConfig, XLNetConfig"
   ]
  },
  {
   "cell_type": "code",
   "execution_count": null,
   "metadata": {},
   "outputs": [],
   "source": [
    "# 模型参数\n",
    "config_kwargs = {\n",
    "    \"d_model\":512,\n",
    "    \"n_head\":4,\n",
    "    \"vocab_size\":tokenizer.get_vocab_size(), # 自己设置词汇大小\n",
    "    \"embedding_size\":64,\n",
    "    \"bi_data\":True,\n",
    "    \"n_player\":8\n",
    "}"
   ]
  },
  {
   "cell_type": "code",
   "execution_count": null,
   "metadata": {},
   "outputs": [],
   "source": [
    "config = XLNetConfig(**config_kwargs)"
   ]
  },
  {
   "cell_type": "code",
   "execution_count": null,
   "metadata": {},
   "outputs": [],
   "source": [
    "from transformers import RobertaForMaskedLM, AlbertForMaskedLM, XLNetLMHeadModel"
   ]
  },
  {
   "cell_type": "code",
   "execution_count": null,
   "metadata": {},
   "outputs": [],
   "source": [
    "model = XLNetLMHeadModel(config = config)"
   ]
  },
  {
   "cell_type": "code",
   "execution_count": null,
   "metadata": {},
   "outputs": [],
   "source": []
  }
 ],
 "metadata": {
  "kernelspec": {
   "display_name": "Python 3.9.5 64-bit",
   "language": "python",
   "name": "python3"
  },
  "language_info": {
   "codemirror_mode": {
    "name": "ipython",
    "version": 3
   },
   "file_extension": ".py",
   "mimetype": "text/x-python",
   "name": "python",
   "nbconvert_exporter": "python",
   "pygments_lexer": "ipython3",
   "version": "3.9.5"
  },
  "orig_nbformat": 4,
  "vscode": {
   "interpreter": {
    "hash": "aee8b7b246df8f9039afb4144a1f6fd8d2ca17a180786b69acc140d282b71a49"
   }
  }
 },
 "nbformat": 4,
 "nbformat_minor": 2
}
