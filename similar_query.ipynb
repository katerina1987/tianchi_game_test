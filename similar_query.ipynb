{
 "cells": [
  {
   "cell_type": "markdown",
   "metadata": {},
   "source": [
    "# 搜索query相似计算"
   ]
  },
  {
   "cell_type": "code",
   "execution_count": 1,
   "metadata": {},
   "outputs": [],
   "source": [
    "import pandas as pd\n",
    "import tensorflow as tf\n",
    "from gensim.models import Word2Vec\n",
    "import jieba\n",
    "from collections import Counter\n",
    "from gensim.models import Doc2Vec\n",
    "from gensim import corpora, models, similarities\n",
    "import numpy as np\n",
    "import time\n",
    "import json"
   ]
  },
  {
   "cell_type": "code",
   "execution_count": 2,
   "metadata": {},
   "outputs": [
    {
     "data": {
      "text/html": [
       "<div>\n",
       "<style scoped>\n",
       "    .dataframe tbody tr th:only-of-type {\n",
       "        vertical-align: middle;\n",
       "    }\n",
       "\n",
       "    .dataframe tbody tr th {\n",
       "        vertical-align: top;\n",
       "    }\n",
       "\n",
       "    .dataframe thead th {\n",
       "        text-align: right;\n",
       "    }\n",
       "</style>\n",
       "<table border=\"1\" class=\"dataframe\">\n",
       "  <thead>\n",
       "    <tr style=\"text-align: right;\">\n",
       "      <th></th>\n",
       "      <th>id</th>\n",
       "      <th>query1</th>\n",
       "      <th>query2</th>\n",
       "      <th>label</th>\n",
       "    </tr>\n",
       "  </thead>\n",
       "  <tbody>\n",
       "    <tr>\n",
       "      <th>0</th>\n",
       "      <td>s1</td>\n",
       "      <td>茴香是发物吗</td>\n",
       "      <td>茴香怎么吃？</td>\n",
       "      <td>0</td>\n",
       "    </tr>\n",
       "    <tr>\n",
       "      <th>1</th>\n",
       "      <td>s2</td>\n",
       "      <td>茴香是发物吗</td>\n",
       "      <td>茴香子怎么吃</td>\n",
       "      <td>0</td>\n",
       "    </tr>\n",
       "    <tr>\n",
       "      <th>2</th>\n",
       "      <td>s3</td>\n",
       "      <td>茴香是发物吗</td>\n",
       "      <td>茴香怎么吃最好</td>\n",
       "      <td>0</td>\n",
       "    </tr>\n",
       "    <tr>\n",
       "      <th>3</th>\n",
       "      <td>s4</td>\n",
       "      <td>茴香是发物吗</td>\n",
       "      <td>茴香的营养成分</td>\n",
       "      <td>0</td>\n",
       "    </tr>\n",
       "    <tr>\n",
       "      <th>4</th>\n",
       "      <td>s5</td>\n",
       "      <td>茴香是发物吗</td>\n",
       "      <td>茴香怎么吃</td>\n",
       "      <td>0</td>\n",
       "    </tr>\n",
       "    <tr>\n",
       "      <th>...</th>\n",
       "      <td>...</td>\n",
       "      <td>...</td>\n",
       "      <td>...</td>\n",
       "      <td>...</td>\n",
       "    </tr>\n",
       "    <tr>\n",
       "      <th>1595</th>\n",
       "      <td>s1596</td>\n",
       "      <td>月经来了十几天还没完是怎么回事</td>\n",
       "      <td>为什么月经来了十多天还未完</td>\n",
       "      <td>2</td>\n",
       "    </tr>\n",
       "    <tr>\n",
       "      <th>1596</th>\n",
       "      <td>s1597</td>\n",
       "      <td>月经来了十几天还没完是怎么回事</td>\n",
       "      <td>生理期10天还没完怎么回事</td>\n",
       "      <td>0</td>\n",
       "    </tr>\n",
       "    <tr>\n",
       "      <th>1597</th>\n",
       "      <td>s1598</td>\n",
       "      <td>月经来了十几天还没完是怎么回事</td>\n",
       "      <td>月经来了十天还没完</td>\n",
       "      <td>0</td>\n",
       "    </tr>\n",
       "    <tr>\n",
       "      <th>1598</th>\n",
       "      <td>s1599</td>\n",
       "      <td>月经来了十几天还没完是怎么回事</td>\n",
       "      <td>月经来了快二十天还没完是怎么回事</td>\n",
       "      <td>0</td>\n",
       "    </tr>\n",
       "    <tr>\n",
       "      <th>1599</th>\n",
       "      <td>s1600</td>\n",
       "      <td>月经来了十几天还没完是怎么回事</td>\n",
       "      <td>例假十天了还不完是什么情况</td>\n",
       "      <td>0</td>\n",
       "    </tr>\n",
       "  </tbody>\n",
       "</table>\n",
       "<p>1600 rows × 4 columns</p>\n",
       "</div>"
      ],
      "text/plain": [
       "         id           query1            query2 label\n",
       "0        s1           茴香是发物吗            茴香怎么吃？     0\n",
       "1        s2           茴香是发物吗            茴香子怎么吃     0\n",
       "2        s3           茴香是发物吗           茴香怎么吃最好     0\n",
       "3        s4           茴香是发物吗           茴香的营养成分     0\n",
       "4        s5           茴香是发物吗             茴香怎么吃     0\n",
       "...     ...              ...               ...   ...\n",
       "1595  s1596  月经来了十几天还没完是怎么回事     为什么月经来了十多天还未完     2\n",
       "1596  s1597  月经来了十几天还没完是怎么回事     生理期10天还没完怎么回事     0\n",
       "1597  s1598  月经来了十几天还没完是怎么回事         月经来了十天还没完     0\n",
       "1598  s1599  月经来了十几天还没完是怎么回事  月经来了快二十天还没完是怎么回事     0\n",
       "1599  s1600  月经来了十几天还没完是怎么回事     例假十天了还不完是什么情况     0\n",
       "\n",
       "[1600 rows x 4 columns]"
      ]
     },
     "execution_count": 2,
     "metadata": {},
     "output_type": "execute_result"
    }
   ],
   "source": [
    "df = pd.read_json(\"./data/KUAKE-QQR_dev.json\")\n",
    "df"
   ]
  },
  {
   "cell_type": "code",
   "execution_count": 3,
   "metadata": {},
   "outputs": [],
   "source": [
    "stop_words = [line.strip() for line in open(\"/Users/mac/Documents/我的坚果云/我的坚果云/learn_code/python_data/tech_data/jieba_dict/stop_words.txt\").readlines()]"
   ]
  },
  {
   "cell_type": "code",
   "execution_count": null,
   "metadata": {},
   "outputs": [],
   "source": [
    "query_01 = df[\"query1\"].values\n",
    "\n",
    "doc = [jieba.lcut(i) for i in query_01]\n",
    "\n",
    "texts = [[word for word in doc[i] if word not in stop_words] for i in range(len(doc))]"
   ]
  },
  {
   "cell_type": "code",
   "execution_count": null,
   "metadata": {},
   "outputs": [],
   "source": [
    "# 仅针对一个query\n",
    "query_001 = df[\"query1\"][0]\n",
    "doc_001 = [jieba.lcut(query_001)]\n",
    "text_001 = [[word for word in doc[i] if word not in stop_words] for i in range(len(doc))]"
   ]
  },
  {
   "cell_type": "code",
   "execution_count": 4,
   "metadata": {},
   "outputs": [
    {
     "name": "stderr",
     "output_type": "stream",
     "text": [
      "Building prefix dict from the default dictionary ...\n",
      "Loading model from cache /var/folders/fr/n0ycpnx57f371zd5bf28dvj80000gp/T/jieba.cache\n",
      "Loading model cost 0.830 seconds.\n",
      "Prefix dict has been built successfully.\n"
     ]
    },
    {
     "ename": "KeyboardInterrupt",
     "evalue": "",
     "output_type": "error",
     "traceback": [
      "\u001b[0;31m---------------------------------------------------------------------------\u001b[0m",
      "\u001b[0;31mKeyboardInterrupt\u001b[0m                         Traceback (most recent call last)",
      "\u001b[0;32m<ipython-input-4-95e723a55460>\u001b[0m in \u001b[0;36m<module>\u001b[0;34m\u001b[0m\n\u001b[1;32m     23\u001b[0m     \u001b[0mresult\u001b[0m\u001b[0;34m.\u001b[0m\u001b[0mappend\u001b[0m\u001b[0;34m(\u001b[0m\u001b[0;34m[\u001b[0m\u001b[0mquery\u001b[0m\u001b[0;34m,\u001b[0m\u001b[0mquery_compare\u001b[0m\u001b[0;34m,\u001b[0m\u001b[0msims_avg\u001b[0m\u001b[0;34m,\u001b[0m\u001b[0mlabel\u001b[0m\u001b[0;34m]\u001b[0m\u001b[0;34m)\u001b[0m\u001b[0;34m\u001b[0m\u001b[0;34m\u001b[0m\u001b[0m\n\u001b[1;32m     24\u001b[0m     \u001b[0;31m# print(\"第\"+str(i)+\"个完成\")\u001b[0m\u001b[0;34m\u001b[0m\u001b[0;34m\u001b[0m\u001b[0;34m\u001b[0m\u001b[0m\n\u001b[0;32m---> 25\u001b[0;31m     \u001b[0mtime\u001b[0m\u001b[0;34m.\u001b[0m\u001b[0msleep\u001b[0m\u001b[0;34m(\u001b[0m\u001b[0;36m3\u001b[0m\u001b[0;34m)\u001b[0m\u001b[0;34m\u001b[0m\u001b[0;34m\u001b[0m\u001b[0m\n\u001b[0m\u001b[1;32m     26\u001b[0m     \u001b[0mi\u001b[0m\u001b[0;34m+=\u001b[0m\u001b[0;36m1\u001b[0m\u001b[0;34m\u001b[0m\u001b[0;34m\u001b[0m\u001b[0m\n\u001b[1;32m     27\u001b[0m \u001b[0;34m\u001b[0m\u001b[0m\n",
      "\u001b[0;31mKeyboardInterrupt\u001b[0m: "
     ]
    }
   ],
   "source": [
    "# 每一个query与每一个query进行相似度计算\n",
    "result = []\n",
    "for i in range(len(df)):\n",
    "    query =\"\"\n",
    "    query = df[\"query1\"][i]\n",
    "    doc = [jieba.lcut(i) for i in (query)]\n",
    "    text = [[word for word in doc[i] if word not in stop_words] for i in range(len(doc))]\n",
    "    dic = corpora.Dictionary(text)\n",
    "    corpus = [dic.doc2bow(text) for text in text]\n",
    "    lsi = models.LsiModel(corpus, id2word=dic, power_iters = 100, num_topics=3)\n",
    "    index = similarities.MatrixSimilarity(lsi[corpus])\n",
    "    query_compare =df[\"query2\"][i]\n",
    "    vec_bow = dic.doc2bow(jieba.lcut(query_compare))\n",
    "    vec_list = lsi[vec_bow]\n",
    "    sims = index[vec_list]\n",
    "    sims_avg = np.mean(sims)\n",
    "    if  0.8 < sims_avg <= 1.0:\n",
    "        label = 2\n",
    "    elif 0.6 < sims_avg < 0.8:\n",
    "        label = 1\n",
    "    else:\n",
    "        label = 0\n",
    "    result.append([query,query_compare,sims_avg,label])\n",
    "    # print(\"第\"+str(i)+\"个完成\")\n",
    "    time.sleep(3)\n",
    "    i+=1\n",
    "\n",
    "result\n",
    "    "
   ]
  },
  {
   "cell_type": "code",
   "execution_count": null,
   "metadata": {},
   "outputs": [],
   "source": [
    "result_str = [str(i) for i in result].join(\",\")\n",
    "\n",
    "file_name = \"test.json\"\n",
    "with open(file_name,\"w\") as file_obj:\n",
    "    json.dump(result_str,file_obj)"
   ]
  },
  {
   "cell_type": "code",
   "execution_count": null,
   "metadata": {},
   "outputs": [],
   "source": [
    "# 尝试单独比一个，结果可以得出单条的相似度\n",
    "dic_001 = corpora.Dictionary(text_001)\n",
    "corpus_001 = [dic_001.doc2bow(text) for text in text_001]\n",
    "lsi = models.LsiModel(\n",
    "    corpus,\n",
    "    id2word=dic_001,\n",
    "    power_iters = 100,\n",
    "    num_topics=3  # 主题\n",
    ")\n",
    "index_001 = similarities.MatrixSimilarity(lsi[corpus_001])\n",
    "\n",
    "query_002 = df[\"query2\"][0]\n",
    "\n",
    "vec_bow = dic_001.doc2bow(jieba.lcut(query_002))\n",
    "    # 计算query2 对应的向量\n",
    "vec_lsi = lsi[vec_bow]\n",
    "    # 计算query2 对应的向量与所有query1的相似度\n",
    "sims = index_001[vec_lsi]\n",
    "    # 输出原始query1，相似度 二元组\n",
    "sims_avg = np.average(sims)\n",
    "if  0.8 < sims_avg <= 1.0:\n",
    "    label = 2\n",
    "elif 0.6 < sims_avg < 0.8:\n",
    "    label = 1\n",
    "else:\n",
    "    label = 0\n",
    "result = [query_001, sims_avg,label]\n",
    "result"
   ]
  },
  {
   "cell_type": "code",
   "execution_count": null,
   "metadata": {},
   "outputs": [],
   "source": [
    "# 用gensim构建query词典，并记录词频\n",
    "# 构建词典，给每个词编号\n",
    "dic = corpora.Dictionary(texts)\n",
    "# 每个query1里每个词出现频次\n",
    "corpus = [dic.doc2bow(text) for text in texts]"
   ]
  },
  {
   "cell_type": "code",
   "execution_count": null,
   "metadata": {},
   "outputs": [],
   "source": [
    "# 构建LSI模型\n",
    "lsi = models.LsiModel(\n",
    "    corpus,\n",
    "    id2word=dic,\n",
    "    power_iters = 100,\n",
    "    num_topics=10  # 主题\n",
    ")"
   ]
  },
  {
   "cell_type": "code",
   "execution_count": null,
   "metadata": {},
   "outputs": [],
   "source": [
    "# lsi[corpus]是所有query1对应的向量\n",
    "index_q = similarities.MatrixSimilarity(lsi[corpus])"
   ]
  },
  {
   "cell_type": "code",
   "execution_count": null,
   "metadata": {},
   "outputs": [],
   "source": [
    "\n",
    "query_02 = df[\"query2\"]\n",
    "\n",
    "for item in query_02.iteritems():\n",
    "    # 词袋模型，统计词频\n",
    "    vec_bow = dic.doc2bow(jieba.lcut(item[1]))\n",
    "    # 计算query2 对应的向量\n",
    "    vec_lsi = lsi[vec_bow]\n",
    "    # 计算query2 对应的向量与所有query1的相似度\n",
    "    sims = index_q[vec_lsi]\n",
    "    # 输出原始query1，相似度 二元组\n",
    "    result =[(query_01[i[0]], i[1]) for i in enumerate(sims)]\n",
    "result        "
   ]
  }
 ],
 "metadata": {
  "kernelspec": {
   "display_name": "Python 3.9.5 64-bit",
   "language": "python",
   "name": "python3"
  },
  "language_info": {
   "codemirror_mode": {
    "name": "ipython",
    "version": 3
   },
   "file_extension": ".py",
   "mimetype": "text/x-python",
   "name": "python",
   "nbconvert_exporter": "python",
   "pygments_lexer": "ipython3",
   "version": "3.9.5"
  },
  "orig_nbformat": 4,
  "vscode": {
   "interpreter": {
    "hash": "aee8b7b246df8f9039afb4144a1f6fd8d2ca17a180786b69acc140d282b71a49"
   }
  }
 },
 "nbformat": 4,
 "nbformat_minor": 2
}
